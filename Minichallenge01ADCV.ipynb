{
  "nbformat": 4,
  "nbformat_minor": 0,
  "metadata": {
    "colab": {
      "provenance": [],
      "toc_visible": true,
      "authorship_tag": "ABX9TyM8oUHzUkCZP7jvufVTKTXw",
      "include_colab_link": true
    },
    "kernelspec": {
      "name": "python3",
      "display_name": "Python 3"
    },
    "language_info": {
      "name": "python"
    }
  },
  "cells": [
    {
      "cell_type": "markdown",
      "metadata": {
        "id": "view-in-github",
        "colab_type": "text"
      },
      "source": [
        "<a href=\"https://colab.research.google.com/github/Andrewshumeiker/python_basics/blob/main/Minichallenge01ADCV.ipynb\" target=\"_parent\"><img src=\"https://colab.research.google.com/assets/colab-badge.svg\" alt=\"Open In Colab\"/></a>"
      ]
    },
    {
      "cell_type": "code",
      "execution_count": null,
      "metadata": {
        "colab": {
          "base_uri": "https://localhost:8080/"
        },
        "id": "aB4JonWbcXf7",
        "outputId": "7fc40b9f-216b-41b3-eef9-236f45573896"
      },
      "outputs": [
        {
          "output_type": "stream",
          "name": "stdout",
          "text": [
            "ingrese la fraseearraharehh\n",
            "frase en minúsculas\n",
            " earraharehh\n",
            "FRASE EN MAYÚSCULAS\n",
            " EARRAHAREHH\n"
          ]
        }
      ],
      "source": [
        "#1. Implemente una función que pida al usuario ingresar una frase y luego la muestre en consola usando solo minúsculas y luego solo mayúsculas.\n",
        "frase = input(\"ingrese la frase\")\n",
        "frase.lower()\n",
        "frase.upper()\n",
        "#frase en mnisculas\n",
        "\n",
        "print(\"frase en minúsculas\\n\",frase.lower())\n",
        "#frase en minusculas\n",
        "print(\"FRASE EN MAYÚSCULAS\\n\",frase.upper())\n"
      ]
    },
    {
      "cell_type": "code",
      "source": [
        "#2. Implemente una función que pida al usuario ingresar una frase, luego reemplace cada espacio por puntos suspensivos y finalmente la muestre en consola.\n",
        "def reemplazarporpuntos():\n",
        "    frase = input(\"Ingresa una frase: \")\n",
        "\n",
        "\n",
        "    frasereemplazada = frase.replace(\" \", \"...\")\n",
        "    print(\"Frase con puntos suspensivos:\", frasereemplazada)\n",
        "reemplazarporpuntos()\n"
      ],
      "metadata": {
        "colab": {
          "base_uri": "https://localhost:8080/"
        },
        "id": "HLTbcqbVjpLY",
        "outputId": "a8a6dd74-8231-4b12-e754-4cab365cd62e"
      },
      "execution_count": null,
      "outputs": [
        {
          "output_type": "stream",
          "name": "stdout",
          "text": [
            "Ingresa una frase:  rg wimg wiomoeo \n",
            "Frase con puntos suspensivos: ...rg...wimg...wiomoeo...\n"
          ]
        }
      ]
    },
    {
      "cell_type": "code",
      "source": [
        "#3.\n",
        "def main():\n",
        "    costo_float = float(input(\"costo:\"))\n",
        "    margen_float = float (input(\"porcentaje de ganancia:\"))\n",
        "    margen = margen_float/100\n",
        "    p = costo_float/(1-margen)\n",
        "    print(f\"precio de venta\",p)\n",
        "\n",
        "main()"
      ],
      "metadata": {
        "colab": {
          "base_uri": "https://localhost:8080/"
        },
        "id": "LhYsfNMUlor9",
        "outputId": "0bccccef-2b15-4963-f6d8-510c00cd2596"
      },
      "execution_count": null,
      "outputs": [
        {
          "output_type": "stream",
          "name": "stdout",
          "text": [
            "costo:23.500\n",
            "porcentaje de ganancia:45\n",
            "precio de venta 42.72727272727273\n"
          ]
        }
      ]
    },
    {
      "cell_type": "code",
      "source": [
        "def main():\n",
        " Nombre_cliente = input(\"Nombre del cliente:\" )\n",
        " Identificacion = int(input(\"Identificacion:\" ))\n",
        " Cantidad_de_paginas = int(input(\"Numero de paginas:\" ))\n",
        " imagenes_a_color = int(input(\"Numero de imagenes a color:\") )\n",
        " precio_de_impresion = int(80)\n",
        " recargo = int(45)\n",
        " Pastilla = int(50000)\n",
        " Calculo1 = precio_de_impresion * Cantidad_de_paginas\n",
        " Calculo2 = recargo * imagenes_a_color\n",
        " CalculoT = Calculo1 + Calculo2 + Pastilla\n",
        " print(\"Cliente: \",Nombre_cliente)\n",
        " print(\"ID: \",Identificacion)\n",
        " print(\"_____________________________________________________________________________\")\n",
        " print(\"Costo por paginas  | Costo por imagenes | Costo por empastillado |Total     |\")\n",
        " print(\"___________________|____________________|________________________|__________|\")\n",
        " print(Calculo1,\"\\t\\t   |\",Calculo2,\"\\t        |\",Pastilla,\"\\t\\t |\",CalculoT,\"$  |\")\n",
        " print(\"¯¯¯¯¯¯¯¯¯¯¯¯¯¯¯¯¯¯¯¯¯¯¯¯¯¯¯¯¯¯¯¯¯¯¯¯¯¯¯¯¯¯¯¯¯¯¯¯¯¯¯¯¯¯¯¯¯¯¯¯¯¯¯¯¯¯¯¯¯¯¯¯¯¯¯¯¯\")\n",
        "main()"
      ],
      "metadata": {
        "colab": {
          "base_uri": "https://localhost:8080/"
        },
        "id": "zS7Txnak3FeB",
        "outputId": "6ee76a5d-30e6-46df-fb32-2b6ce82b2cb9"
      },
      "execution_count": null,
      "outputs": [
        {
          "output_type": "stream",
          "name": "stdout",
          "text": [
            "Nombre del cliente:a\n",
            "Identificacion:4\n",
            "Numero de paginas:4\n",
            "Numero de imagenes a color:4\n",
            "Cliente:  a\n",
            "ID:  4\n",
            "_____________________________________________________________________________\n",
            "Costo por paginas  | Costo por imagenes | Costo por empastillado |Total     |\n",
            "___________________|____________________|________________________|__________|\n",
            "320 \t\t   | 180 \t        | 50000 \t\t | 50500 $  |\n",
            "¯¯¯¯¯¯¯¯¯¯¯¯¯¯¯¯¯¯¯¯¯¯¯¯¯¯¯¯¯¯¯¯¯¯¯¯¯¯¯¯¯¯¯¯¯¯¯¯¯¯¯¯¯¯¯¯¯¯¯¯¯¯¯¯¯¯¯¯¯¯¯¯¯¯¯¯¯\n"
          ]
        }
      ]
    }
  ]
}