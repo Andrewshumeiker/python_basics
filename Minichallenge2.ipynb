{
  "nbformat": 4,
  "nbformat_minor": 0,
  "metadata": {
    "colab": {
      "provenance": [],
      "authorship_tag": "ABX9TyMIf6KByHEPceAAs1c0fW1X",
      "include_colab_link": true
    },
    "kernelspec": {
      "name": "python3",
      "display_name": "Python 3"
    },
    "language_info": {
      "name": "python"
    }
  },
  "cells": [
    {
      "cell_type": "markdown",
      "metadata": {
        "id": "view-in-github",
        "colab_type": "text"
      },
      "source": [
        "<a href=\"https://colab.research.google.com/github/Andrewshumeiker/python_basics/blob/main/Minichallenge2.ipynb\" target=\"_parent\"><img src=\"https://colab.research.google.com/assets/colab-badge.svg\" alt=\"Open In Colab\"/></a>"
      ]
    },
    {
      "cell_type": "code",
      "execution_count": null,
      "metadata": {
        "colab": {
          "base_uri": "https://localhost:8080/",
          "height": 347
        },
        "id": "N1MkTP_hmTsA",
        "outputId": "e5aad496-1c84-4d77-a864-e639e72cd39f"
      },
      "outputs": [
        {
          "output_type": "error",
          "ename": "KeyboardInterrupt",
          "evalue": "ignored",
          "traceback": [
            "\u001b[0;31m---------------------------------------------------------------------------\u001b[0m",
            "\u001b[0;31mKeyboardInterrupt\u001b[0m                         Traceback (most recent call last)",
            "\u001b[0;32m<ipython-input-24-eb9400a4dda1>\u001b[0m in \u001b[0;36m<cell line: 21>\u001b[0;34m()\u001b[0m\n\u001b[1;32m     19\u001b[0m \u001b[0;34m\u001b[0m\u001b[0m\n\u001b[1;32m     20\u001b[0m \u001b[0;34m\u001b[0m\u001b[0m\n\u001b[0;32m---> 21\u001b[0;31m \u001b[0mreceta_galletas\u001b[0m\u001b[0;34m(\u001b[0m\u001b[0;34m)\u001b[0m\u001b[0;34m\u001b[0m\u001b[0;34m\u001b[0m\u001b[0m\n\u001b[0m",
            "\u001b[0;32m<ipython-input-24-eb9400a4dda1>\u001b[0m in \u001b[0;36mreceta_galletas\u001b[0;34m()\u001b[0m\n\u001b[1;32m      6\u001b[0m  \u001b[0mharina_original\u001b[0m \u001b[0;34m=\u001b[0m \u001b[0;36m2.75\u001b[0m\u001b[0;34m\u001b[0m\u001b[0;34m\u001b[0m\u001b[0m\n\u001b[1;32m      7\u001b[0m  \u001b[0;34m\"\"\"la proporcion de cambio\"\"\"\u001b[0m\u001b[0;34m\u001b[0m\u001b[0;34m\u001b[0m\u001b[0m\n\u001b[0;32m----> 8\u001b[0;31m  \u001b[0mcantidad_galletas\u001b[0m \u001b[0;34m=\u001b[0m \u001b[0mint\u001b[0m\u001b[0;34m(\u001b[0m\u001b[0minput\u001b[0m\u001b[0;34m(\u001b[0m\u001b[0;34m\"Ingrese la cantidad de galletas: \"\u001b[0m\u001b[0;34m)\u001b[0m\u001b[0;34m)\u001b[0m\u001b[0;34m\u001b[0m\u001b[0;34m\u001b[0m\u001b[0m\n\u001b[0m\u001b[1;32m      9\u001b[0m  \u001b[0mfactor_proporcion\u001b[0m \u001b[0;34m=\u001b[0m \u001b[0mcantidad_galletas\u001b[0m \u001b[0;34m/\u001b[0m \u001b[0mgalletas_originales\u001b[0m\u001b[0;34m\u001b[0m\u001b[0;34m\u001b[0m\u001b[0m\n\u001b[1;32m     10\u001b[0m  \u001b[0mazucar_necesaria\u001b[0m \u001b[0;34m=\u001b[0m \u001b[0mazucar_original\u001b[0m \u001b[0;34m*\u001b[0m \u001b[0mfactor_proporcion\u001b[0m\u001b[0;34m\u001b[0m\u001b[0;34m\u001b[0m\u001b[0m\n",
            "\u001b[0;32m/usr/local/lib/python3.10/dist-packages/ipykernel/kernelbase.py\u001b[0m in \u001b[0;36mraw_input\u001b[0;34m(self, prompt)\u001b[0m\n\u001b[1;32m    849\u001b[0m                 \u001b[0;34m\"raw_input was called, but this frontend does not support input requests.\"\u001b[0m\u001b[0;34m\u001b[0m\u001b[0;34m\u001b[0m\u001b[0m\n\u001b[1;32m    850\u001b[0m             )\n\u001b[0;32m--> 851\u001b[0;31m         return self._input_request(str(prompt),\n\u001b[0m\u001b[1;32m    852\u001b[0m             \u001b[0mself\u001b[0m\u001b[0;34m.\u001b[0m\u001b[0m_parent_ident\u001b[0m\u001b[0;34m,\u001b[0m\u001b[0;34m\u001b[0m\u001b[0;34m\u001b[0m\u001b[0m\n\u001b[1;32m    853\u001b[0m             \u001b[0mself\u001b[0m\u001b[0;34m.\u001b[0m\u001b[0m_parent_header\u001b[0m\u001b[0;34m,\u001b[0m\u001b[0;34m\u001b[0m\u001b[0;34m\u001b[0m\u001b[0m\n",
            "\u001b[0;32m/usr/local/lib/python3.10/dist-packages/ipykernel/kernelbase.py\u001b[0m in \u001b[0;36m_input_request\u001b[0;34m(self, prompt, ident, parent, password)\u001b[0m\n\u001b[1;32m    893\u001b[0m             \u001b[0;32mexcept\u001b[0m \u001b[0mKeyboardInterrupt\u001b[0m\u001b[0;34m:\u001b[0m\u001b[0;34m\u001b[0m\u001b[0;34m\u001b[0m\u001b[0m\n\u001b[1;32m    894\u001b[0m                 \u001b[0;31m# re-raise KeyboardInterrupt, to truncate traceback\u001b[0m\u001b[0;34m\u001b[0m\u001b[0;34m\u001b[0m\u001b[0m\n\u001b[0;32m--> 895\u001b[0;31m                 \u001b[0;32mraise\u001b[0m \u001b[0mKeyboardInterrupt\u001b[0m\u001b[0;34m(\u001b[0m\u001b[0;34m\"Interrupted by user\"\u001b[0m\u001b[0;34m)\u001b[0m \u001b[0;32mfrom\u001b[0m \u001b[0;32mNone\u001b[0m\u001b[0;34m\u001b[0m\u001b[0;34m\u001b[0m\u001b[0m\n\u001b[0m\u001b[1;32m    896\u001b[0m             \u001b[0;32mexcept\u001b[0m \u001b[0mException\u001b[0m \u001b[0;32mas\u001b[0m \u001b[0me\u001b[0m\u001b[0;34m:\u001b[0m\u001b[0;34m\u001b[0m\u001b[0;34m\u001b[0m\u001b[0m\n\u001b[1;32m    897\u001b[0m                 \u001b[0mself\u001b[0m\u001b[0;34m.\u001b[0m\u001b[0mlog\u001b[0m\u001b[0;34m.\u001b[0m\u001b[0mwarning\u001b[0m\u001b[0;34m(\u001b[0m\u001b[0;34m\"Invalid Message:\"\u001b[0m\u001b[0;34m,\u001b[0m \u001b[0mexc_info\u001b[0m\u001b[0;34m=\u001b[0m\u001b[0;32mTrue\u001b[0m\u001b[0;34m)\u001b[0m\u001b[0;34m\u001b[0m\u001b[0;34m\u001b[0m\u001b[0m\n",
            "\u001b[0;31mKeyboardInterrupt\u001b[0m: Interrupted by user"
          ]
        }
      ],
      "source": [
        "def receta_galletas():\n",
        " \"\"\"cantidades originales\"\"\"\n",
        " galletas_originales = 48\n",
        " azucar_original = 1.5\n",
        " mantequilla_original = 1\n",
        " harina_original = 2.75\n",
        " \"\"\"la proporcion de cambio\"\"\"\n",
        " cantidad_galletas = int(input(\"Ingrese la cantidad de galletas: \"))\n",
        " factor_proporcion = cantidad_galletas / galletas_originales\n",
        " azucar_necesaria = azucar_original * factor_proporcion\n",
        " mantequilla_necesaria = mantequilla_original * factor_proporcion\n",
        " harina_necesaria = harina_original * factor_proporcion\n",
        "\n",
        "    # Imprimir resultados en columnas con dos cifras decimales\n",
        " print(\"Cantidad de galletas: \", cantidad_galletas)\n",
        " print(\"Ingredientes: \")\n",
        " print(\"{:<15} {:<15} {:<15}\".format(\"Azúcar (tazas)\", \"Mantequilla (tazas)\", \"Harina (tazas)\"))\n",
        " print(\"{:<15.2f} {:<15.2f} {:<15.2f}\".format(azucar_necesaria, mantequilla_necesaria, harina_necesaria))\n",
        "\n",
        "\n",
        "receta_galletas()\n"
      ]
    },
    {
      "cell_type": "code",
      "source": [
        "def main():\n",
        " def anualidad_redondeo():\n",
        "  \"\"\"\n",
        "    Solicita el valor de la anualidad y devuelve el valor redondeado a múltiplos de mil.\n",
        "    Devuelve: int: Valor de la anualidad redondeado a múltiplos de mil.\n",
        "        \"\"\"\n",
        " anualidad = int(input(\"Ingrese el valor de la anualidad: \"))\n",
        " anualidad_redondeo = anualidad % 1000\n",
        "\n",
        " def tasa_float():\n",
        "  \"\"\"\n",
        "    Pregunta la tasa de interés anual al usuario y lo devuelve redondeado a dos cifras decimales.\n",
        "    Devuelve: float: Tasa de interés anual redondeada a dos cifras decimales, expresado en decimal y como float.\n",
        "  \"\"\"\n",
        " tasa_interes = round(float(input(\"Ingrese la tasa de interés anual (en porcentaje): \")), 2)\n",
        " tasa_interes_redondeada = tasa_interes/100\n",
        "\n",
        " def plazo_entero():\n",
        "    \"\"\"\n",
        "    Solicita el plazo en años al usuario y devuelve el valor como int.\n",
        "    \"\"\"\n",
        " plazo_anios = int(input(\"Ingrese el plazo en años: \"))\n",
        "\n",
        " def monto_acumulado():\n",
        "    \"\"\"\n",
        "    Calcula el monto acumulado de una inversión anual con una tasa de interés compuesta anualmente y devuelve un int en multiplos de 1000\n",
        "    \"\"\"\n",
        " monto_acumulado = anualidad_redondeo * ((((1 + tasa_interes) ** plazo_anios) - 1) / tasa_interes_redondeada)\n",
        " monto_acumulado_total = (monto_acumulado - (monto_acumulado % 1000))\n",
        " print(\"El monto acumulado al final de\",plazo_anios,\"años es: \",plazo_anios, monto_acumulado_total)\n",
        "main()"
      ],
      "metadata": {
        "colab": {
          "base_uri": "https://localhost:8080/"
        },
        "id": "AbbAOvo_vU8Y",
        "outputId": "56160c6e-0b62-428e-deff-3095dc4c371a"
      },
      "execution_count": null,
      "outputs": [
        {
          "output_type": "stream",
          "name": "stdout",
          "text": [
            "Ingrese el valor de la anualidad: 23\n",
            "Ingrese la tasa de interés anual (en porcentaje): 12\n",
            "Ingrese el plazo en años: 3\n",
            "El monto acumulado al final de 3 años es:  3 420000.0\n"
          ]
        }
      ]
    },
    {
      "cell_type": "code",
      "source": [
        "def media_armonica(numeros):\n",
        "    suma_inversos = sum(1 / num for num in numeros)\n",
        "    media_armonica = len(numeros) / suma_inversos\n",
        "    return media_armonica\n",
        "\n",
        "def calcular_media_aritmetica(numeros):\n",
        "    suma = sum(numeros)\n",
        "    media_aritmetica = suma / len(numeros)\n",
        "    return media_aritmetica\n",
        "numeros_usuario = []\n",
        "for i in range(6):\n",
        "    numero = int(input(f\"Ingrese el número {i + 1}: \"))\n",
        "    numeros_usuario.append(numero)\n",
        "media_armonica_calculada = media_armonica(numeros_usuario)\n",
        "media_aritmetica_calculada = calcular_media_aritmetica(numeros_usuario)\n",
        "print(f\"Los números ingresados: {numeros_usuario}\")\n",
        "print(f\"Media armónica   : {media_armonica_calculada:.2f}\")\n",
        "print(f\"Media aritmética : {media_aritmetica_calculada:.2f}\")"
      ],
      "metadata": {
        "colab": {
          "base_uri": "https://localhost:8080/"
        },
        "id": "pkx1XukL-5Ug",
        "outputId": "df4f858d-6d6d-465c-cf93-6fbd0b0c877b"
      },
      "execution_count": null,
      "outputs": [
        {
          "output_type": "stream",
          "name": "stdout",
          "text": [
            "Ingrese el número 1: 1\n",
            "Ingrese el número 2: 2\n",
            "Ingrese el número 3: 56\n",
            "Ingrese el número 4: 6\n",
            "Ingrese el número 5: 7\n",
            "Ingrese el número 6: 8\n",
            "Los números ingresados: [1, 2, 56, 6, 7, 8]\n",
            "Media armónica   : 3.07\n",
            "Media aritmética : 13.33\n"
          ]
        }
      ]
    },
    {
      "cell_type": "code",
      "source": [
        "def main():\n",
        " def anualidad_redondeo():\n",
        "  \"\"\"\n",
        "    Solicita el valor de la anualidad y devuelve el valor redondeado a múltiplos de mil.\n",
        "    Devuelve: int: Valor de la anualidad redondeado a múltiplos de mil.\n",
        "        \"\"\"\n",
        " anualidad = int(input(\"Ingrese el valor de la anualidad: \"))\n",
        " anualidad_redondeo = anualidad % 1000\n",
        "\n",
        " def tasa_float():\n",
        "  \"\"\"\n",
        "    Pregunta la tasa de interés anual al usuario y lo devuelve redondeado a dos cifras decimales.\n",
        "    Devuelve: float: Tasa de interés anual redondeada a dos cifras decimales, expresado en decimal y como float.\n",
        "  \"\"\"\n",
        " tasa_interes = round(float(input(\"Ingrese la tasa de interés anual (en porcentaje): \")), 2)\n",
        " tasa_interes_redondeada = tasa_interes/100\n",
        "\n",
        " def plazo_entero():\n",
        "    \"\"\"\n",
        "    Solicita el plazo en años al usuario y devuelve el valor como int.\n",
        "    \"\"\"\n",
        " plazo_anios = int(input(\"Ingrese el plazo en años: \"))\n",
        "\n",
        " def monto_acumulado():\n",
        "    \"\"\"\n",
        "    Calcula el monto acumulado de una inversión anual con una tasa de interés compuesta anualmente y devuelve un int en multiplos de 1000\n",
        "    \"\"\"\n",
        " monto_acumulado = anualidad_redondeo * ((((1 + tasa_interes) ** plazo_anios) - 1) / tasa_interes_redondeada)\n",
        " monto_acumulado_total = (monto_acumulado - (monto_acumulado % 1000))\n",
        " print(\"El monto acumulado al final de\",plazo_anios,\"años es: \",plazo_anios, monto_acumulado_total)\n",
        "main()"
      ],
      "metadata": {
        "colab": {
          "base_uri": "https://localhost:8080/"
        },
        "id": "NywUAuLRNKjD",
        "outputId": "3ffae597-f1f0-47e3-eac5-1d5c91938f5f"
      },
      "execution_count": null,
      "outputs": [
        {
          "output_type": "stream",
          "name": "stdout",
          "text": [
            "Ingrese el valor de la anualidad: 23\n",
            "Ingrese la tasa de interés anual (en porcentaje): 14\n",
            "Ingrese el plazo en años: 2\n",
            "El monto acumulado al final de 2 años es:  2 36000.0\n"
          ]
        }
      ]
    },
    {
      "cell_type": "code",
      "source": [
        "def receta_galletas():\n",
        " \"\"\"cantidades originales\"\"\"\n",
        " galletas_originales = 48\n",
        " azucar_original = 1.5\n",
        " mantequilla_original = 1\n",
        " harina_original = 2.75\n",
        " \"\"\"la proporcion de cambio\"\"\"\n",
        " cantidad_galletas = int(input(\"Ingrese la cantidad de galletas: \"))\n",
        " factor_proporcion = cantidad_galletas / galletas_originales\n",
        " azucar_necesaria = azucar_original * factor_proporcion\n",
        " mantequilla_necesaria = mantequilla_original * factor_proporcion\n",
        " harina_necesaria = harina_original * factor_proporcion\n",
        "\n",
        " \"\"\"Imprimir resultados en columnas con dos cifras decimales\"\"\"\n",
        " print(\"Cantidad de galletas: \", cantidad_galletas)\n",
        " print(\"Ingredientes: \")\n",
        " print(\"{:<15} {:<15} {:<15}\".format(\"Azúcar (tazas)\", \"Mantequilla (tazas)\", \"Harina (tazas)\"))\n",
        " print(\"{:<15.2f} {:<15.2f} {:<15.2f}\".format(azucar_necesaria, mantequilla_necesaria, harina_necesaria))\n",
        "\n",
        "\n",
        "receta_galletas()"
      ],
      "metadata": {
        "colab": {
          "base_uri": "https://localhost:8080/"
        },
        "id": "5NxVUO_pNSTO",
        "outputId": "32812216-4d0d-4c62-ea4b-7cbbf53f3fd5"
      },
      "execution_count": null,
      "outputs": [
        {
          "output_type": "stream",
          "name": "stdout",
          "text": [
            "Ingrese la cantidad de galletas: 23\n",
            "Cantidad de galletas:  23\n",
            "Ingredientes: \n",
            "Azúcar (tazas)  Mantequilla (tazas) Harina (tazas) \n",
            "0.72            0.48            1.32           \n"
          ]
        }
      ]
    }
  ]
}